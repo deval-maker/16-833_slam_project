{
 "cells": [
  {
   "cell_type": "code",
   "execution_count": 1,
   "metadata": {},
   "outputs": [],
   "source": [
    "import numpy as np\n",
    "import matplotlib.pyplot as plt"
   ]
  },
  {
   "cell_type": "code",
   "execution_count": 2,
   "metadata": {},
   "outputs": [],
   "source": [
    "obst_val = 0\n",
    "\n",
    "quat_dim = 500\n",
    "map1 = np.ones((quat_dim, quat_dim)) * 255"
   ]
  },
  {
   "cell_type": "code",
   "execution_count": 3,
   "metadata": {},
   "outputs": [],
   "source": [
    "border_width = 20\n",
    "\n",
    "# Add border\n",
    "map1[0:border_width] = obst_val\n",
    "map1[:,0:border_width] = obst_val"
   ]
  },
  {
   "cell_type": "code",
   "execution_count": 4,
   "metadata": {},
   "outputs": [],
   "source": [
    "partition_width = 40 # must be even \n",
    "partition_height = 350\n",
    "\n",
    "map1[int(quat_dim-(partition_width/2)):quat_dim, 0:partition_height] = obst_val\n",
    "map1[0:partition_height, int(quat_dim-(partition_width/2)):quat_dim] = obst_val"
   ]
  },
  {
   "cell_type": "code",
   "execution_count": 5,
   "metadata": {},
   "outputs": [],
   "source": [
    "room_wall_width = 20 # must be even \n",
    "room_height = 300\n",
    "door_size = 120\n",
    "\n",
    "map1[int(room_height-(room_wall_width/2)):int(room_height+(room_wall_width/2)), 0:int(room_height+(room_wall_width/2))] = obst_val\n",
    "map1[door_size:int(room_height+(room_wall_width/2)), int(room_height-(room_wall_width/2)):int(room_height+(room_wall_width/2))] = obst_val"
   ]
  },
  {
   "cell_type": "code",
   "execution_count": 6,
   "metadata": {},
   "outputs": [],
   "source": [
    "# Rotate 90\n",
    "map_90 = np.rot90(map1)\n",
    "\n",
    "# Rotate 180 \n",
    "map_180 = np.rot90(map1, 2)\n",
    "\n",
    "# Rotate 270 \n",
    "map_270 = np.rot90(map1, 3)\n",
    "\n",
    "map_temp1 = np.append(map1, map_270, axis=1)\n",
    "map_temp2 = np.append(map_90, map_180, axis = 1)\n",
    "\n",
    "map1 = np.append(map_temp1, map_temp2, axis = 0)"
   ]
  },
  {
   "cell_type": "code",
   "execution_count": 7,
   "metadata": {},
   "outputs": [],
   "source": [
    "# # Mirror X\n",
    "# map_x =  map1[::-1,:]\n",
    "# map1 = np.append(map1, map_x, axis=0)\n",
    "\n",
    "# # Mirror Y\n",
    "# map_y = map1[:,::-1]\n",
    "# map1 = np.append(map1, map_y, axis=1)"
   ]
  },
  {
   "cell_type": "code",
   "execution_count": 8,
   "metadata": {},
   "outputs": [],
   "source": [
    "# Add Landmarks\n",
    "\n",
    "# Landmark 1\n",
    "center_y = 400\n",
    "center_x = 900\n",
    "l_height = 80\n",
    "landmark_id = 1\n",
    "\n",
    "map1[center_x - int(l_height/2):center_x + int(l_height/2), center_y - int(l_height/2):center_y + int(l_height/2)] = landmark_id"
   ]
  },
  {
   "cell_type": "code",
   "execution_count": 9,
   "metadata": {},
   "outputs": [
    {
     "name": "stdout",
     "output_type": "stream",
     "text": [
      "Map Size:  (1000, 1000)\n"
     ]
    },
    {
     "data": {
      "image/png": "[encoded data removed]",
      "text/plain": [
       "<Figure size 432x288 with 1 Axes>"
      ]
     },
     "metadata": {
      "needs_background": "light"
     },
     "output_type": "display_data"
    }
   ],
   "source": [
    "print(\"Map Size: \", map1.shape)\n",
    "imgplot = plt.imshow(map1, cmap='gray')\n",
    "\n",
    "# from PIL import Image\n",
    "# im = Image.fromarray(map1)\n",
    "# im.save(\"map1.png\")"
   ]
  },
  {
   "cell_type": "code",
   "execution_count": 10,
   "metadata": {},
   "outputs": [],
   "source": [
    "np.savetxt(\"data.txt\",map1,fmt=\"%s\")"
   ]
  },
  {
   "cell_type": "code",
   "execution_count": null,
   "metadata": {},
   "outputs": [],
   "source": []
  }
 ],
 "metadata": {
  "kernelspec": {
   "display_name": "Python 3",
   "language": "python",
   "name": "python3"
  },
  "language_info": {
   "codemirror_mode": {
    "name": "ipython",
    "version": 3
   },
   "file_extension": ".py",
   "mimetype": "text/x-python",
   "name": "python",
   "nbconvert_exporter": "python",
   "pygments_lexer": "ipython3",
   "version": "3.7.4"
  }
 },
 "nbformat": 4,
 "nbformat_minor": 2
}
