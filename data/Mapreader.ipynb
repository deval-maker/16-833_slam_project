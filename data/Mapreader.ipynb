{
 "cells": [
  {
   "cell_type": "code",
   "execution_count": 114,
   "metadata": {},
   "outputs": [],
   "source": [
    "import numpy as np\n",
    "import matplotlib.pyplot as plt"
   ]
  },
  {
   "cell_type": "code",
   "execution_count": 124,
   "metadata": {},
   "outputs": [],
   "source": [
    "class map:\n",
    "    def __init__(self,x_size,y_size):\n",
    "        self.x_size = x_size\n",
    "        self.y_size = y_size\n",
    "        self.map_grid = np.full((y_size,x_size),255)\n",
    "        return\n",
    "    \n",
    "    def show_map(self):\n",
    "        plt.imshow(self.map_grid,cmap='gray')\n",
    "        plt.show()\n",
    "        \n",
    "    def add_landmark(self,land_id,xpos,ypos,size,sym):stat\n",
    "        self.map_grid[ypos-size:ypos+size,xpos-size:xpos+size] = land_id*np.ones((2*size,2*size))\n",
    "        if(sym == 'x'):\n",
    "            sym_x = xpos\n",
    "            sym_y = self.y_size - ypos\n",
    "            self.map_grid[sym_y-size:sym_y+size,sym_x-size:sym_x+size] = land_id*np.ones((2*size,2*size))\n",
    "            \n",
    "        if(sym == 'y'):\n",
    "            sym_x = self.x_size - xpos\n",
    "            sym_y = ypos\n",
    "            self.map_grid[sym_y-size:sym_y+size,sym_x-size:sym_x+size] = land_id*np.ones((2*size,2*size))\n",
    "        \n",
    "        if(sym == 'xy'):\n",
    "            sym_x = self.x_size - xpos\n",
    "            sym_y = self.y_size - ypos\n",
    "            self.map_grid[sym_y-size:sym_y+size,sym_x-size:sym_x+size] = land_id*np.ones((2*size,2*size))\n",
    "            self.add_landmark(land_id,xpos,ypos,size,'x')\n",
    "            self.add_landmark(land_id,xpos,ypos,size,'y')\n",
    "        \n",
    "            \n",
    "        return\n",
    "    \n",
    "    def add_rect(self,x_c,y_c,length,width,sym,rect_id = 0 ):\n",
    "        self.map_grid[int(y_c - length/2):int(y_c+ length/2),int(x_c-width/2):int(x_c+ width/2)] = rect_id*np.ones((length,width))\n",
    "        if(sym == 'x'):\n",
    "            \n",
    "        \n",
    "        return\n",
    "        \n",
    "    \n",
    "    def read_from_file(self,path):\n",
    "        with open(path) as fp:\n",
    "            for count,line in enumerate(fp):\n",
    "                obst = []\n",
    "                print(line)\n",
    "                for word in line.split():\n",
    "                    obst.append(word)\n",
    "                    \n",
    "                self.add_landmark(int(obst[0]),int(obst[1]),int(obst[2]),int(obst[3]),obst[4])\n",
    "                \n",
    "    def add_rooms(self):\n",
    "        obst_val = 0\n",
    "\n",
    "        quat_dim = 500\n",
    "        map1 = np.ones((quat_dim, quat_dim)) * 255\n",
    "\n",
    "        border_width = 20\n",
    "\n",
    "        # Add border\n",
    "        map1[0:border_width] = obst_val\n",
    "        map1[:,0:border_width] = obst_val\n",
    "\n",
    "        partition_width = 40 # must be even \n",
    "        partition_height = 350\n",
    "\n",
    "        map1[int(quat_dim-(partition_width/2)):quat_dim, 0:partition_height] = obst_val\n",
    "        map1[0:partition_height, int(quat_dim-(partition_width/2)):quat_dim] = obst_val\n",
    "\n",
    "        room_wall_width = 20 # must be even \n",
    "        room_height = 300\n",
    "        door_size = 120\n",
    "\n",
    "        map1[int(room_height-(room_wall_width/2)):int(room_height+(room_wall_width/2)), 0:int(room_height+(room_wall_width/2))] = obst_val\n",
    "        map1[door_size:int(room_height+(room_wall_width/2)), int(room_height-(room_wall_width/2)):int(room_height+(room_wall_width/2))] = obst_val\n",
    "\n",
    "        # Rotate 90\n",
    "        map_90 = np.rot90(map1)\n",
    "\n",
    "        # Rotate 180 \n",
    "        map_180 = np.rot90(map1, 2)\n",
    "\n",
    "        # Rotate 270 \n",
    "        map_270 = np.rot90(map1, 3)\n",
    "\n",
    "        map_temp1 = np.append(map1, map_270, axis=1)\n",
    "        map_temp2 = np.append(map_90, map_180, axis = 1)\n",
    "\n",
    "        map1 = np.append(map_temp1, map_temp2, axis = 0)\n",
    "        self.map_grid = map1\n",
    "\n",
    "        return\n",
    "                    \n",
    "                    "
   ]
  },
  {
   "cell_type": "code",
   "execution_count": 125,
   "metadata": {},
   "outputs": [],
   "source": [
    "file_path = \"add_map.txt\"\n"
   ]
  },
  {
   "cell_type": "code",
   "execution_count": 126,
   "metadata": {},
   "outputs": [
    {
     "name": "stdout",
     "output_type": "stream",
     "text": [
      "1 200 300 10 xy\n",
      "\n",
      "2 220 300 10 xy\n",
      "\n",
      "3 240 300 10 xy\n",
      "\n"
     ]
    },
    {
     "data": {
      "image/png": "[encoded data removed]",
      "text/plain": [
       "<Figure size 432x288 with 1 Axes>"
      ]
     },
     "metadata": {
      "needs_background": "light"
     },
     "output_type": "display_data"
    }
   ],
   "source": [
    "le_map = map(1000,1000);\n",
    "# le_map.add_rooms()\n",
    "le_map.add_rect(500,500,50,10)\n",
    "le_map.read_from_file(\"add_map.txt\")\n",
    "le_map.show_map()"
   ]
  },
  {
   "cell_type": "code",
   "execution_count": 79,
   "metadata": {},
   "outputs": [],
   "source": []
  },
  {
   "cell_type": "code",
   "execution_count": 80,
   "metadata": {},
   "outputs": [
    {
     "data": {
      "image/png": "[encoded data removed]",
      "text/plain": [
       "<Figure size 432x288 with 1 Axes>"
      ]
     },
     "metadata": {
      "needs_background": "light"
     },
     "output_type": "display_data"
    }
   ],
   "source": []
  },
  {
   "cell_type": "code",
   "execution_count": null,
   "metadata": {},
   "outputs": [],
   "source": []
  }
 ],
 "metadata": {
  "kernelspec": {
   "display_name": "Python 3",
   "language": "python",
   "name": "python3"
  },
  "language_info": {
   "codemirror_mode": {
    "name": "ipython",
    "version": 3
   },
   "file_extension": ".py",
   "mimetype": "text/x-python",
   "name": "python",
   "nbconvert_exporter": "python",
   "pygments_lexer": "ipython3",
   "version": "3.7.3"
  }
 },
 "nbformat": 4,
 "nbformat_minor": 2
}
