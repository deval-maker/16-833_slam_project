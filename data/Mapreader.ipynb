{
 "cells": [
  {
   "cell_type": "code",
   "execution_count": 19,
   "metadata": {},
   "outputs": [],
   "source": [
    "import numpy as np\n",
    "import matplotlib.pyplot as plt"
   ]
  },
  {
   "cell_type": "code",
   "execution_count": 31,
   "metadata": {},
   "outputs": [],
   "source": [
    "class map:\n",
    "    def __init__(self,x_size,y_size):\n",
    "        self.x_size = x_size\n",
    "        self.y_size = y_size\n",
    "        self.map_grid = np.full((y_size,x_size),255)\n",
    "        return\n",
    "    \n",
    "    def show_map(self):\n",
    "        fig = plt.figure(figsize=(10, 10), dpi= 80, facecolor='w', edgecolor='k')\n",
    "        plt.imshow(5*self.map_grid,cmap='gray')\n",
    "        plt.show()\n",
    "        \n",
    "    def add_landmark(self,land_id,xpos,ypos,size,sym):\n",
    "        self.map_grid[ypos-size:ypos+size,xpos-size:xpos+size] = land_id*np.ones((2*size,2*size))\n",
    "        if(sym == 'x'):\n",
    "            sym_x = xpos\n",
    "            sym_y = self.y_size - ypos\n",
    "            self.map_grid[sym_y-size:sym_y+size,sym_x-size:sym_x+size] = land_id*np.ones((2*size,2*size))\n",
    "\n",
    "        if(sym == 'y'):\n",
    "            sym_x = self.x_size - xpos\n",
    "            sym_y = ypos\n",
    "            self.map_grid[sym_y-size:sym_y+size,sym_x-size:sym_x+size] = land_id*np.ones((2*size,2*size))\n",
    "\n",
    "        if(sym == 'xy'):\n",
    "            sym_x = self.x_size - xpos\n",
    "            sym_y = self.y_size - ypos\n",
    "            self.map_grid[sym_y-size:sym_y+size,sym_x-size:sym_x+size] = land_id*np.ones((2*size,2*size))\n",
    "            self.add_landmark(land_id,xpos,ypos,size,'x')\n",
    "            self.add_landmark(land_id,xpos,ypos,size,'y')\n",
    "        \n",
    "            \n",
    "        return\n",
    "    \n",
    "    def add_rect(self,x_c,y_c,length,width,sym,rect_id = 0 ):\n",
    "        self.map_grid[int(y_c - length/2):int(y_c+ length/2),int(x_c-width/2):int(x_c+ width/2)] = rect_id*np.ones((length,width))  \n",
    "        if(sym =='x'):\n",
    "            sym_x = x_c\n",
    "            sym_y = self.y_size - y_c\n",
    "            self.map_grid[int(sym_y - length/2):int(sym_y+ length/2),int(sym_x-width/2):int(sym_x+ width/2)] = rect_id*np.ones((length,width))  \n",
    "        if(sym =='y'):\n",
    "            sym_x = self.x_size - x_c\n",
    "            sym_y = y_c\n",
    "            self.map_grid[int(sym_y - length/2):int(sym_y+ length/2),int(sym_x-width/2):int(sym_x+ width/2)] = rect_id*np.ones((length,width))\n",
    "    \n",
    "        if(sym == 'xy'):\n",
    "            sym_x = self.x_size - x_c\n",
    "            sym_y = self.y_size - y_c\n",
    "            self.map_grid[int(sym_y - length/2):int(sym_y+ length/2),int(sym_x-width/2):int(sym_x+ width/2)] = rect_id*np.ones((length,width))\n",
    "            self.add_rect(x_c,y_c,length,width,'x')\n",
    "            self.add_rect(x_c,y_c,length,width,'y')\n",
    "        return\n",
    "        \n",
    "    \n",
    "    def read_from_file(self,path):\n",
    "        with open(path) as fp:\n",
    "            for count,line in enumerate(fp):\n",
    "                obst = []\n",
    "                for word in line.split():\n",
    "                    obst.append(word)\n",
    "                self.add_landmark(int(obst[0]),int(obst[1]),int(obst[2]),int(obst[3]),obst[4])\n",
    "                \n",
    "    def save_map(self,path):\n",
    "        np.savetxt(path,self.map_grid,fmt=\"%s\")\n",
    "                    "
   ]
  },
  {
   "cell_type": "code",
   "execution_count": 32,
   "metadata": {},
   "outputs": [],
   "source": [
    "file_path = \"add_map.txt\"\n"
   ]
  },
  {
   "cell_type": "code",
   "execution_count": null,
   "metadata": {},
   "outputs": [],
   "source": []
  },
  {
   "cell_type": "code",
   "execution_count": 35,
   "metadata": {},
   "outputs": [
    {
     "data": {
      "image/png": "[encoded data removed]",
      "text/plain": [
       "<Figure size 800x800 with 1 Axes>"
      ]
     },
     "metadata": {},
     "output_type": "display_data"
    }
   ],
   "source": [
    "le_map = map(1000,1000);\n",
    "wall_width = 6\n",
    "# le_map.add_rect(150,200,400,wall_width,'xy')\n",
    "le_map.add_rect(300,200,400,wall_width,'xy')\n",
    "# le_map.add_rect(150,400,wall_width,80,'xy')\n",
    "le_map.add_rect(30,400,wall_width,40,'xy')\n",
    "le_map.add_rect(120,400,wall_width,40,'xy')\n",
    "le_map.add_rect(170,400,wall_width,40,'xy')\n",
    "le_map.add_rect(280,400,wall_width,40,'xy')\n",
    "le_map.add_rect(430,500,450,wall_width,'y')\n",
    "le_map.add_rect(5,500,1000,10,'')\n",
    "le_map.add_rect(995,500,1000,10,'')\n",
    "le_map.add_rect(500,995,10,1000,'')\n",
    "le_map.add_rect(500,5,10,1000,'')\n",
    "\n",
    "\n",
    "\n",
    "le_map.read_from_file(\"add_map3.txt\")\n",
    "le_map.show_map()"
   ]
  },
  {
   "cell_type": "code",
   "execution_count": 36,
   "metadata": {},
   "outputs": [],
   "source": [
    "le_map.save_map(\"map7.txt\")"
   ]
  },
  {
   "cell_type": "code",
   "execution_count": null,
   "metadata": {},
   "outputs": [],
   "source": []
  }
 ],
 "metadata": {
  "kernelspec": {
   "display_name": "Python 3",
   "language": "python",
   "name": "python3"
  },
  "language_info": {
   "codemirror_mode": {
    "name": "ipython",
    "version": 3
   },
   "file_extension": ".py",
   "mimetype": "text/x-python",
   "name": "python",
   "nbconvert_exporter": "python",
   "pygments_lexer": "ipython3",
   "version": "3.7.3"
  }
 },
 "nbformat": 4,
 "nbformat_minor": 2
}
